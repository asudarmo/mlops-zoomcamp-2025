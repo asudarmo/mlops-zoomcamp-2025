{
 "cells": [
  {
   "cell_type": "code",
   "execution_count": 1,
   "id": "46feaf55-09c1-4565-9b74-4786a0975307",
   "metadata": {},
   "outputs": [
    {
     "name": "stdout",
     "output_type": "stream",
     "text": [
      "mlflow, version 2.22.0\n"
     ]
    }
   ],
   "source": [
    "!mlflow --version"
   ]
  },
  {
   "cell_type": "code",
   "execution_count": 6,
   "id": "c2e78f3c-7a4e-4bfc-bf89-3fd8b37cc1f8",
   "metadata": {},
   "outputs": [],
   "source": [
    "!python preprocess_data.py --raw_data_path ./data --dest_path ./prep_out"
   ]
  },
  {
   "cell_type": "code",
   "execution_count": 7,
   "id": "b5bb3ef5-e6da-4cfa-b51f-05231c45e5a5",
   "metadata": {},
   "outputs": [
    {
     "name": "stdout",
     "output_type": "stream",
     "text": [
      " Volume in drive C is Acer\n",
      " Volume Serial Number is CE08-C8F9\n",
      "\n",
      " Directory of C:\\Users\\ardih\\Study\\DataTalksClub\\MLOps_2025\\mlops-zoomcamp-2025\\hw2\\prep_out\n",
      "\n",
      "27/05/25  09:56 am    <DIR>          .\n",
      "27/05/25  09:56 am    <DIR>          ..\n",
      "27/05/25  09:56 am           131,004 dv.pkl\n",
      "27/05/25  09:56 am         2,458,697 test.pkl\n",
      "27/05/25  09:56 am         2,374,517 train.pkl\n",
      "27/05/25  09:56 am         2,215,823 val.pkl\n",
      "               4 File(s)      7,180,041 bytes\n",
      "               2 Dir(s)  155,606,786,048 bytes free\n"
     ]
    }
   ],
   "source": [
    "!dir .\\prep_out"
   ]
  },
  {
   "cell_type": "code",
   "execution_count": 9,
   "id": "88bee169-c493-4345-a009-863b5310427f",
   "metadata": {},
   "outputs": [
    {
     "name": "stderr",
     "output_type": "stream",
     "text": [
      "2025/05/27 10:00:24 INFO mlflow.tracking.fluent: Experiment with name 'hw2-experiment' does not exist. Creating a new experiment.\n",
      "2025/05/27 10:00:33 INFO mlflow.tracking.fluent: Autologging successfully enabled for sklearn.\n"
     ]
    }
   ],
   "source": [
    "!python train.py  --data_path ./prep_out"
   ]
  },
  {
   "cell_type": "code",
   "execution_count": null,
   "id": "0d1b65a3-9c76-478d-a289-7580759f4d94",
   "metadata": {},
   "outputs": [],
   "source": []
  },
  {
   "cell_type": "code",
   "execution_count": 13,
   "id": "07e8ffaa-6dc7-4393-914f-46071b240cd2",
   "metadata": {},
   "outputs": [],
   "source": [
    "import mlflow\n",
    "\n",
    "from mlflow.entities import ViewType\n",
    "from mlflow.tracking import MlflowClient"
   ]
  },
  {
   "cell_type": "code",
   "execution_count": 15,
   "id": "64b71789-e992-4ccf-a79e-2c640c77e203",
   "metadata": {},
   "outputs": [],
   "source": [
    "HPO_EXPERIMENT_NAME = \"random-forest-hyperopt\"\n",
    "EXPERIMENT_NAME = \"random-forest-best-models\"\n",
    "RF_PARAMS = ['max_depth', 'n_estimators', 'min_samples_split', 'min_samples_leaf', 'random_state']\n",
    "\n",
    "mlflow.set_tracking_uri(\"http://127.0.0.1:8080\")"
   ]
  },
  {
   "cell_type": "code",
   "execution_count": 16,
   "id": "c50812af-971a-4718-bda0-126089f00e50",
   "metadata": {},
   "outputs": [],
   "source": [
    "\n",
    "client = MlflowClient()\n"
   ]
  },
  {
   "cell_type": "code",
   "execution_count": 20,
   "id": "05ffd380-d3ee-4b55-b673-814d6f3033df",
   "metadata": {},
   "outputs": [
    {
     "name": "stdout",
     "output_type": "stream",
     "text": [
      "<Experiment: artifact_location='file:C:/Users/ardih/Study/DataTalksClub/MLOps_2025/mlops-zoomcamp-2025/hw2/mlflow_runs/2', creation_time=1748318785637, experiment_id='2', last_update_time=1748318785637, lifecycle_stage='active', name='random-forest-hyperopt', tags={}>\n"
     ]
    }
   ],
   "source": [
    "experiment = client.get_experiment_by_name(HPO_EXPERIMENT_NAME)\n",
    "\n",
    "print(experiment)"
   ]
  },
  {
   "cell_type": "code",
   "execution_count": 26,
   "id": "d3d97ce0-65a4-4840-a807-0f018b698177",
   "metadata": {},
   "outputs": [
    {
     "name": "stdout",
     "output_type": "stream",
     "text": [
      "lowest training rmse run id: e25d0294cfe4499f8e53afa02d36cbf1, rmse: 5.3354\n"
     ]
    }
   ],
   "source": [
    "\n",
    "best_hpo_run = client.search_runs(\n",
    "    experiment_ids=experiment.experiment_id,\n",
    "    run_view_type=ViewType.ACTIVE_ONLY,\n",
    "    max_results=1,\n",
    "    order_by=[\"metrics.rmse ASC\"]\n",
    ")[0]\n",
    "\n",
    "print(f\"lowest training rmse run id: {best_hpo_run.info.run_id}, rmse: {best_hpo_run.data.metrics['rmse']:.4f}\")"
   ]
  },
  {
   "cell_type": "code",
   "execution_count": 28,
   "id": "afe18065-2442-4706-9329-f2fe43c0b86d",
   "metadata": {},
   "outputs": [
    {
     "name": "stdout",
     "output_type": "stream",
     "text": [
      "runs:/e25d0294cfe4499f8e53afa02d36cbf1/models\n"
     ]
    }
   ],
   "source": [
    "print(f'runs:/{best_hpo_run.info.run_id}/models')"
   ]
  },
  {
   "cell_type": "code",
   "execution_count": null,
   "id": "410746d4-ff35-4027-b9d2-cff24872ae11",
   "metadata": {},
   "outputs": [],
   "source": []
  }
 ],
 "metadata": {
  "kernelspec": {
   "display_name": "Python 3 (ipykernel)",
   "language": "python",
   "name": "python3"
  },
  "language_info": {
   "codemirror_mode": {
    "name": "ipython",
    "version": 3
   },
   "file_extension": ".py",
   "mimetype": "text/x-python",
   "name": "python",
   "nbconvert_exporter": "python",
   "pygments_lexer": "ipython3",
   "version": "3.12.10"
  }
 },
 "nbformat": 4,
 "nbformat_minor": 5
}
